{
 "cells": [
  {
   "cell_type": "markdown",
   "metadata": {},
   "source": [
    "# Big Data Content Analytics - AUEB"
   ]
  },
  {
   "cell_type": "markdown",
   "metadata": {},
   "source": [
    "## Comment Analysis"
   ]
  },
  {
   "cell_type": "markdown",
   "metadata": {},
   "source": [
    "Importing libraries"
   ]
  },
  {
   "cell_type": "code",
   "execution_count": 529,
   "metadata": {},
   "outputs": [],
   "source": [
    "import pandas as pd\n",
    "from collections import Counter\n",
    "import numpy as np\n",
    "import matplotlib.pyplot as plt\n",
    "from IPython.display import Image\n",
    "from IPython.core.display import HTML \n",
    "\n",
    "%matplotlib inline\n",
    "\n",
    "from pandas import read_excel"
   ]
  },
  {
   "cell_type": "code",
   "execution_count": 530,
   "metadata": {},
   "outputs": [
    {
     "data": {
      "text/html": [
       "<div>\n",
       "<style scoped>\n",
       "    .dataframe tbody tr th:only-of-type {\n",
       "        vertical-align: middle;\n",
       "    }\n",
       "\n",
       "    .dataframe tbody tr th {\n",
       "        vertical-align: top;\n",
       "    }\n",
       "\n",
       "    .dataframe thead th {\n",
       "        text-align: right;\n",
       "    }\n",
       "</style>\n",
       "<table border=\"1\" class=\"dataframe\">\n",
       "  <thead>\n",
       "    <tr style=\"text-align: right;\">\n",
       "      <th></th>\n",
       "      <th>Comment</th>\n",
       "      <th>Category</th>\n",
       "    </tr>\n",
       "  </thead>\n",
       "  <tbody>\n",
       "    <tr>\n",
       "      <th>0</th>\n",
       "      <td>The device came back in a worse condition when...</td>\n",
       "      <td>Repair Experience/Availability</td>\n",
       "    </tr>\n",
       "    <tr>\n",
       "      <th>1</th>\n",
       "      <td>reply</td>\n",
       "      <td>Support Efficiency</td>\n",
       "    </tr>\n",
       "    <tr>\n",
       "      <th>2</th>\n",
       "      <td>Your employees are always friendly. However, o...</td>\n",
       "      <td>Support Efficiency</td>\n",
       "    </tr>\n",
       "    <tr>\n",
       "      <th>3</th>\n",
       "      <td>Been told the correct information to start wit...</td>\n",
       "      <td>Information Provided</td>\n",
       "    </tr>\n",
       "    <tr>\n",
       "      <th>4</th>\n",
       "      <td>By having better service support someone who u...</td>\n",
       "      <td>Information Provided</td>\n",
       "    </tr>\n",
       "  </tbody>\n",
       "</table>\n",
       "</div>"
      ],
      "text/plain": [
       "                                             Comment  \\\n",
       "0  The device came back in a worse condition when...   \n",
       "1                                              reply   \n",
       "2  Your employees are always friendly. However, o...   \n",
       "3  Been told the correct information to start wit...   \n",
       "4  By having better service support someone who u...   \n",
       "\n",
       "                         Category  \n",
       "0  Repair Experience/Availability  \n",
       "1              Support Efficiency  \n",
       "2              Support Efficiency  \n",
       "3            Information Provided  \n",
       "4            Information Provided  "
      ]
     },
     "execution_count": 530,
     "metadata": {},
     "output_type": "execute_result"
    }
   ],
   "source": [
    "df = pd.read_csv(\"/Users/sakis/Desktop/The_Dataset\",sep=\"~\")\n",
    "df.head()"
   ]
  },
  {
   "cell_type": "markdown",
   "metadata": {},
   "source": [
    "The dataset consists of no null values."
   ]
  },
  {
   "cell_type": "markdown",
   "metadata": {},
   "source": [
    "In a basic description, the dataset consists of 27649 comments and each one of them belongs to a category. \n",
    "The dataset consists of no null values."
   ]
  },
  {
   "cell_type": "code",
   "execution_count": 531,
   "metadata": {},
   "outputs": [
    {
     "name": "stdout",
     "output_type": "stream",
     "text": [
      "<class 'pandas.core.frame.DataFrame'>\n",
      "RangeIndex: 27649 entries, 0 to 27648\n",
      "Data columns (total 2 columns):\n",
      "Comment     27649 non-null object\n",
      "Category    27649 non-null object\n",
      "dtypes: object(2)\n",
      "memory usage: 432.1+ KB\n"
     ]
    }
   ],
   "source": [
    "df.info()"
   ]
  },
  {
   "cell_type": "markdown",
   "metadata": {},
   "source": [
    "Now let's have a look in the frequency of each category."
   ]
  },
  {
   "cell_type": "code",
   "execution_count": 532,
   "metadata": {},
   "outputs": [
    {
     "data": {
      "text/plain": [
       "Counter({'Repair Experience/Availability': 1508,\n",
       "         'Support Efficiency': 5179,\n",
       "         'Information Provided': 3550,\n",
       "         'Warranty Coverage': 1185,\n",
       "         'Product/Spares Quality': 2171,\n",
       "         'Issue Resolution': 4931,\n",
       "         'Agent Contact Skills': 2251,\n",
       "         'Positive Verbatim': 1801,\n",
       "         'Price': 291,\n",
       "         'Promotion Conditions': 371,\n",
       "         'Website / Store Experience': 1933,\n",
       "         '3rd Party Complaint': 163,\n",
       "         'Product /Spare Availability': 2080,\n",
       "         'Other': 217,\n",
       "         'issue Resolution': 1,\n",
       "         'other': 9,\n",
       "         'price': 1,\n",
       "         'positive verbatim': 4,\n",
       "         'issue resolution': 1,\n",
       "         '3rd party complaint': 1,\n",
       "         'promotion conditions': 1})"
      ]
     },
     "execution_count": 532,
     "metadata": {},
     "output_type": "execute_result"
    }
   ],
   "source": [
    "category_counts = Counter(df['Category'])\n",
    "category_counts"
   ]
  },
  {
   "cell_type": "markdown",
   "metadata": {},
   "source": [
    "There seems to be a small problem with lower and upper case letters in the \"Category\" column, so we can fix this"
   ]
  },
  {
   "cell_type": "code",
   "execution_count": 533,
   "metadata": {},
   "outputs": [
    {
     "data": {
      "text/plain": [
       "Counter({'repair experience/availability': 1508,\n",
       "         'support efficiency': 5179,\n",
       "         'information provided': 3550,\n",
       "         'warranty coverage': 1185,\n",
       "         'product/spares quality': 2171,\n",
       "         'issue resolution': 4933,\n",
       "         'agent contact skills': 2251,\n",
       "         'positive verbatim': 1805,\n",
       "         'price': 292,\n",
       "         'promotion conditions': 372,\n",
       "         'website / store experience': 1933,\n",
       "         '3rd party complaint': 164,\n",
       "         'product /spare availability': 2080,\n",
       "         'other': 226})"
      ]
     },
     "execution_count": 533,
     "metadata": {},
     "output_type": "execute_result"
    }
   ],
   "source": [
    "df[\"Category\"]= df[\"Category\"].str.lower() \n",
    "category_counts = Counter(df['Category'])\n",
    "category_counts"
   ]
  },
  {
   "cell_type": "markdown",
   "metadata": {},
   "source": [
    "4 of the 14 categories contain a small number of data compared to the other 10 categories. As a first attempt we will keep all the  14 categories and see how well the model responds."
   ]
  },
  {
   "cell_type": "code",
   "execution_count": 534,
   "metadata": {},
   "outputs": [],
   "source": [
    "top_categories = category_counts.most_common()[:14]\n"
   ]
  },
  {
   "cell_type": "markdown",
   "metadata": {},
   "source": [
    "The comments will be the input for the model and the categories will be the output."
   ]
  },
  {
   "cell_type": "code",
   "execution_count": 535,
   "metadata": {},
   "outputs": [],
   "source": [
    "X = df['Comment']"
   ]
  },
  {
   "cell_type": "code",
   "execution_count": 536,
   "metadata": {},
   "outputs": [],
   "source": [
    "y = df['Category']"
   ]
  },
  {
   "cell_type": "code",
   "execution_count": 537,
   "metadata": {},
   "outputs": [],
   "source": [
    "from sklearn.preprocessing import OneHotEncoder\n",
    "from sklearn.model_selection import StratifiedShuffleSplit\n"
   ]
  },
  {
   "cell_type": "markdown",
   "metadata": {},
   "source": [
    "Now, it is time to split the dataset. We are going to split it in 3 components. One will be the training dataset, one the validation dataset and the last one the test dataset. StratifiedShuffleSplit shuffles the data, and then it splits the data into n_splits parts. After this step, StratifiedShuffleSplit picks one part to use as a test set. Then it repeats the same process n_splits - 1 other times, to get n_splits - 1 other test sets. So, it shuffles each time before splitting, and it splits n_splits times, and as a result the test sets can overlap.\n",
    "At first, we will split the Original dataset into two pieces:Train-Validation dataset and Test dataset\n",
    "Secondly, we will split the Train-Validation dataset into another two pieces:Train dataset and Validation dataset\n"
   ]
  },
  {
   "cell_type": "code",
   "execution_count": 538,
   "metadata": {},
   "outputs": [],
   "source": [
    "test_sss = StratifiedShuffleSplit(n_splits=5,\n",
    "                                  test_size=0.15,\n",
    "                                  random_state=0)"
   ]
  },
  {
   "cell_type": "code",
   "execution_count": 539,
   "metadata": {},
   "outputs": [],
   "source": [
    "val_sss = StratifiedShuffleSplit(n_splits=5, \n",
    "                                 test_size=0.2,\n",
    "                                 random_state=0)"
   ]
  },
  {
   "cell_type": "code",
   "execution_count": 553,
   "metadata": {},
   "outputs": [
    {
     "name": "stdout",
     "output_type": "stream",
     "text": [
      "TRAIN-VAL: [11182 26603  5402 19283  4958 13033 14089 17947 16769 22549] TEST: [  965  8472  2900 16899 21028  7295  9330 15163 18261 13158]\n",
      "TRAIN-VAL: [10891  2989 14097  1604 25741 27210 18279 27573 19270 25813] TEST: [22522  2019  2928 25894 23915  6173  1006 10908  3419  8492]\n",
      "TRAIN-VAL: [14932  4745  3756 23747  9763  2042  6854 20209 25276 10632] TEST: [ 4121  6058 21694 24270 22672 18017  2431 10469  7970 10184]\n",
      "TRAIN-VAL: [19319  9922  9506   926 12027 14964  9755 18183 26029 18840] TEST: [17411  7554  9493   903  4143  5853  7970  1470 13262 12268]\n",
      "TRAIN-VAL: [15322 10351  8346 20231  3820  7030 26652  7393  5277 23560] TEST: [17395 19296 22747 23210  4664 20893  5433  9962 21681 20621]\n"
     ]
    }
   ],
   "source": [
    "# splitting in train-val and test\n",
    "\n",
    "X_train_val, X_test, y_train_val, y_test = None, None, None, None\n",
    "\n",
    "# getting the indexes for each dataset\n",
    "for train_index, test_index in test_sss.split(X, y):\n",
    "    \n",
    "    print(\"TRAIN-VAL:\", train_index[:10], \"TEST:\", test_index[:10])\n",
    "    \n",
    "    X_train_val, X_test = X[train_index], X[test_index]\n",
    "    y_train_val, y_test = y[train_index], y[test_index]"
   ]
  },
  {
   "cell_type": "code",
   "execution_count": 554,
   "metadata": {},
   "outputs": [
    {
     "data": {
      "text/plain": [
       "15322    In this case, everything was fine, but I have ...\n",
       "10351        No aftercare or loyalty towards its customers\n",
       "8346     The very service from you has been excellent. ...\n",
       "20231                               Employ qualified staff\n",
       "3820                                 Answered the question\n",
       "Name: Comment, dtype: object"
      ]
     },
     "execution_count": 554,
     "metadata": {},
     "output_type": "execute_result"
    }
   ],
   "source": [
    "X_train_val.head()  "
   ]
  },
  {
   "cell_type": "markdown",
   "metadata": {},
   "source": [
    "We reset the indexes for both the X-train-val and y-train-val in order to break them \n",
    "again into two subsets.\n"
   ]
  },
  {
   "cell_type": "code",
   "execution_count": 555,
   "metadata": {},
   "outputs": [],
   "source": [
    "X_train_val = X_train_val.reset_index(drop=True)\n",
    "y_train_val = y_train_val.reset_index(drop=True)"
   ]
  },
  {
   "cell_type": "markdown",
   "metadata": {},
   "source": [
    "We split again the train-val dataset into train and validation datasets"
   ]
  },
  {
   "cell_type": "code",
   "execution_count": 556,
   "metadata": {},
   "outputs": [],
   "source": [
    "\n",
    "X_train, X_val, y_train, y_val = None, None, None, None\n",
    "\n",
    "for train_index, val_index in val_sss.split(X_train_val, y_train_val):\n",
    "    \n",
    "    X_train, X_val = X_train_val[train_index], X_train_val[val_index]\n",
    "    y_train, y_val = y_train_val[train_index], y_train_val[val_index] "
   ]
  },
  {
   "cell_type": "markdown",
   "metadata": {},
   "source": [
    "The next step is to encode the labels (categories) using a One-Hot Encoder. \n",
    "At first we run fit_transform on the Training dataand then we use the fitted One-hot-Encoder to transform the rest of the data\n",
    "\n"
   ]
  },
  {
   "cell_type": "code",
   "execution_count": 557,
   "metadata": {},
   "outputs": [],
   "source": [
    "y_enc = OneHotEncoder(sparse=False)\n",
    "\n",
    "y_train_enc = y_enc.fit_transform(y_train.values.reshape(-1, 1))\n",
    "\n",
    "y_val_enc = y_enc.transform(y_val.values.reshape(-1, 1))\n",
    "y_test_enc = y_enc.transform(y_test.values.reshape(-1, 1))\n"
   ]
  },
  {
   "cell_type": "markdown",
   "metadata": {},
   "source": [
    "After constructing the three datasets we can see their shape. The training dataset consists of 18800 rows, while the test and validation datasets consist of 4148 and 4701 rows."
   ]
  },
  {
   "cell_type": "code",
   "execution_count": 558,
   "metadata": {},
   "outputs": [
    {
     "name": "stdout",
     "output_type": "stream",
     "text": [
      "y_train shape: (18800, 14)\n",
      "y_val shape: (4701, 14)\n",
      "y_test shape: (4148, 14)\n"
     ]
    }
   ],
   "source": [
    "\n",
    "print('y_train shape: {}'.format(y_train_enc.shape))\n",
    "print('y_val shape: {}'.format(y_val_enc.shape))\n",
    "print('y_test shape: {}'.format(y_test_enc.shape))\n"
   ]
  },
  {
   "cell_type": "markdown",
   "metadata": {},
   "source": [
    "### Bag of Words Approach (BoW)\n"
   ]
  },
  {
   "cell_type": "markdown",
   "metadata": {},
   "source": [
    "A bag-of-words model (BoW), is a way of extracting features from text for use in modeling. The approach is very simple and flexible, and can be used in thousands of ways for extracting features from documents. It is a representation of text that describes the occurrence of words within a document. It involves two things: A vocabulary of known words. and a measure of the presence of known words. The model is only concerned with whether known words occur in the document, not where in the document."
   ]
  },
  {
   "cell_type": "code",
   "execution_count": 559,
   "metadata": {},
   "outputs": [],
   "source": [
    "from sklearn.feature_extraction.text import CountVectorizer, TfidfVectorizer"
   ]
  },
  {
   "cell_type": "code",
   "execution_count": 560,
   "metadata": {},
   "outputs": [
    {
     "data": {
      "text/plain": [
       "0    the device came back in a worse condition when...\n",
       "1                                                reply\n",
       "2    your employees are always friendly  however, o...\n",
       "3    been told the correct information to start wit...\n",
       "4    by having better service support someone who u...\n",
       "Name: Comment, dtype: object"
      ]
     },
     "execution_count": 560,
     "metadata": {},
     "output_type": "execute_result"
    }
   ],
   "source": [
    "comments = df['Comment'].str.lower().str.replace('.', ' ')\n",
    "comments.head()"
   ]
  },
  {
   "cell_type": "markdown",
   "metadata": {},
   "source": [
    "We will concatenate all the comments into one text and split in into tokens. then we are going to find the most frequent of them. Below we can see the 15 most frequent words in all the comments and how many times each one of them appears in the dataset."
   ]
  },
  {
   "cell_type": "code",
   "execution_count": 561,
   "metadata": {},
   "outputs": [
    {
     "data": {
      "text/plain": [
       "[('the', 41566),\n",
       " ('i', 21916),\n",
       " ('to', 21045),\n",
       " ('a', 18517),\n",
       " ('not', 15027),\n",
       " ('and', 14717),\n",
       " ('was', 11984),\n",
       " ('of', 9739),\n",
       " ('for', 9139),\n",
       " ('that', 8932),\n",
       " ('my', 8489),\n",
       " ('have', 8400),\n",
       " ('it', 8243),\n",
       " ('is', 7948),\n",
       " ('in', 7900)]"
      ]
     },
     "execution_count": 561,
     "metadata": {},
     "output_type": "execute_result"
    }
   ],
   "source": [
    "all_words = \" \".join(comments)\n",
    "top_words = Counter(all_words.split()).most_common()\n",
    "top_words[:15]"
   ]
  },
  {
   "cell_type": "markdown",
   "metadata": {},
   "source": [
    "When we deal with text problems, stop words removal process is a one of the most important steps in order to have a better input for the models. The term stop words means that they are very common words in a language. these words do not help on most of the problems such as semantic analysis, classification etc. For that, we will print the top 100 most common words in order to pick those that we want to include in our Stop Words List. "
   ]
  },
  {
   "cell_type": "code",
   "execution_count": 562,
   "metadata": {},
   "outputs": [
    {
     "name": "stdout",
     "output_type": "stream",
     "text": [
      "['-', '2', 'a', 'about', 'after', 'again', 'all', 'also', 'an', 'and', 'answer', 'are', 'as', 'at', 'back', 'be', 'because', 'been', 'better', 'but', 'buy', 'by', 'can', 'contact', 'could', 'customer', 'device', 'did', 'do', 'even', 'first', 'for', 'from', 'get', 'good', 'had', 'has', 'have', 'help', 'i', 'if', 'in', 'information', 'is', 'it', 'just', 'machine', 'me', 'more', 'my', 'new', 'no', 'not', 'nothing', 'now', 'of', 'on', 'one', 'only', 'or', 'order', 'out', 'part', 'parts', 'philips', 'problem', 'product', 'products', 'question', 'received', 'repair', 'replacement', 'send', 'sent', 'service', 'should', 'so', 'spare', 'still', 'that', 'the', 'then', 'there', 'they', 'this', 'time', 'to', 'very', 'warranty', 'was', 'we', 'were', 'what', 'when', 'which', 'will', 'with', 'would', 'you', 'your']\n"
     ]
    }
   ],
   "source": [
    "print(sorted([i[0].lower() for i in top_words[:100]]))"
   ]
  },
  {
   "cell_type": "markdown",
   "metadata": {},
   "source": [
    "Our stop list will contain most of the words above. In fact we will exclude words that may be important for the model, such as \"good\" or \"problem\". The final list contains the words:"
   ]
  },
  {
   "cell_type": "code",
   "execution_count": 563,
   "metadata": {},
   "outputs": [],
   "source": [
    "el_stop = ['-', '2', 'a', 'about', 'after', 'again', 'all', 'also', 'an', 'and',\n",
    "           'are', 'as', 'at', 'back', 'be', 'because', 'been',\n",
    "           'buy', 'by', 'can', 'could', 'customer', \n",
    "           'did', 'do', 'even', 'first', 'for', 'from', 'get', 'had', \n",
    "           'has', 'have', 'i', 'if', 'in', 'is', 'it',\n",
    "           'just', 'me', 'more', 'my', 'new', 'no', 'now', 'of', \n",
    "           'on', 'one', 'only', 'or', 'out', 'part', 'parts',\n",
    "           'send', 'sent', 'service', 'should', 'so', \n",
    "           'still', 'than', 'that', 'the', 'then', 'there', 'they', 'this', 'time', \n",
    "           'to', 'very', 'was', 'we', 'were', 'what', 'when', 'which', \n",
    "           'will', 'with', 'would', 'you', 'your']\n"
   ]
  },
  {
   "cell_type": "markdown",
   "metadata": {},
   "source": [
    "We will set the total number of words used for vectorization to 3000. \"comments_vect_counts\" vectorizer will give the number of appearances of each word and \"comments_vect_binary\" vectorizer will return 1 if the word appears and 0 if the word doesn't appear.\n",
    " \n"
   ]
  },
  {
   "cell_type": "code",
   "execution_count": 564,
   "metadata": {},
   "outputs": [],
   "source": [
    "max_words = 3000\n",
    "\n",
    "comments_vect_counts = CountVectorizer(encoding='utf-8',\n",
    "                                     strip_accents='unicode',\n",
    "                                     lowercase=True,\n",
    "                                     stop_words=el_stop,\n",
    "                                     ngram_range=(1, 1), # unigrams\n",
    "                                     max_features=max_words,\n",
    "                                     binary=False # binary output or full counts. \n",
    "                                     )\n",
    "\n",
    "comments_vect_binary = CountVectorizer(encoding='utf-8',\n",
    "                                     strip_accents='unicode',\n",
    "                                     lowercase=True,\n",
    "                                     stop_words=el_stop,\n",
    "                                     ngram_range=(1, 1), # unigrams\n",
    "                                     max_features=max_words,\n",
    "                                     binary=True # binary output or full counts. \n",
    "                                     )"
   ]
  },
  {
   "cell_type": "markdown",
   "metadata": {},
   "source": [
    "In this step we fit the CountVectorizer only on the training dataset and use it to transform the Validation and Test sets.\n"
   ]
  },
  {
   "cell_type": "code",
   "execution_count": 565,
   "metadata": {},
   "outputs": [],
   "source": [
    "X_train_enc = comments_vect_counts.fit_transform(X_train.astype(str))\n",
    "\n",
    "X_val_enc = comments_vect_counts.transform(X_val.astype(str))\n"
   ]
  },
  {
   "cell_type": "code",
   "execution_count": 566,
   "metadata": {},
   "outputs": [],
   "source": [
    "X_test_enc = comments_vect_counts.transform(X_test.astype(str))"
   ]
  },
  {
   "cell_type": "code",
   "execution_count": 567,
   "metadata": {},
   "outputs": [
    {
     "data": {
      "text/plain": [
       "<18800x3000 sparse matrix of type '<class 'numpy.int64'>'\n",
       "\twith 204881 stored elements in Compressed Sparse Row format>"
      ]
     },
     "execution_count": 567,
     "metadata": {},
     "output_type": "execute_result"
    }
   ],
   "source": [
    "X_train_enc\n"
   ]
  },
  {
   "cell_type": "markdown",
   "metadata": {},
   "source": [
    "### The model"
   ]
  },
  {
   "cell_type": "code",
   "execution_count": 568,
   "metadata": {},
   "outputs": [],
   "source": [
    "from tensorflow.keras.models import Sequential\n",
    "from tensorflow.keras.layers import Dense, Dropout, Activation\n",
    "from tensorflow.keras import metrics\n",
    "from tensorflow.keras.utils import plot_model\n",
    "import pydot"
   ]
  },
  {
   "cell_type": "markdown",
   "metadata": {},
   "source": [
    "Fist of all we set values to some variables that will be used for the model. We set Number of Classes for the Y labels to 14, number of epochs to 30, the batch_size of the data that will be fed to the Model when training to 32 and Dropout Rate of the Dropout Layer to 40%.\n"
   ]
  },
  {
   "cell_type": "code",
   "execution_count": 569,
   "metadata": {},
   "outputs": [],
   "source": [
    "nb_classes = len(y_enc.categories_[0])\n",
    "nb_epoch = 30\n",
    "batch_size = 32 \n",
    "dropout_rate = 0.4"
   ]
  },
  {
   "cell_type": "markdown",
   "metadata": {},
   "source": [
    "We will create a sequential model. In sequential models each layer will use as input the output of the former layer added to the model.\n"
   ]
  },
  {
   "cell_type": "code",
   "execution_count": 570,
   "metadata": {},
   "outputs": [],
   "source": [
    "model = Sequential()\n",
    "\n",
    "model.add(Dense(512, input_shape=(max_words,)))\n",
    "\n",
    "model.add(Activation('relu'))\n",
    "\n",
    "model.add(Dropout(dropout_rate))\n",
    "\n",
    "model.add(Dense(512))\n",
    "\n",
    "model.add(Activation('relu'))\n",
    "\n",
    "model.add(Dropout(dropout_rate))\n",
    "\n",
    "model.add(Dense(nb_classes))\n",
    "\n",
    "model.add(Activation('softmax'))\n"
   ]
  },
  {
   "cell_type": "markdown",
   "metadata": {},
   "source": [
    "We can see some information avout the models' layers"
   ]
  },
  {
   "cell_type": "code",
   "execution_count": 571,
   "metadata": {},
   "outputs": [
    {
     "name": "stdout",
     "output_type": "stream",
     "text": [
      "_________________________________________________________________\n",
      "Layer (type)                 Output Shape              Param #   \n",
      "=================================================================\n",
      "dense_33 (Dense)             (None, 512)               1536512   \n",
      "_________________________________________________________________\n",
      "activation_27 (Activation)   (None, 512)               0         \n",
      "_________________________________________________________________\n",
      "dropout_18 (Dropout)         (None, 512)               0         \n",
      "_________________________________________________________________\n",
      "dense_34 (Dense)             (None, 512)               262656    \n",
      "_________________________________________________________________\n",
      "activation_28 (Activation)   (None, 512)               0         \n",
      "_________________________________________________________________\n",
      "dropout_19 (Dropout)         (None, 512)               0         \n",
      "_________________________________________________________________\n",
      "dense_35 (Dense)             (None, 14)                7182      \n",
      "_________________________________________________________________\n",
      "activation_29 (Activation)   (None, 14)                0         \n",
      "=================================================================\n",
      "Total params: 1,806,350\n",
      "Trainable params: 1,806,350\n",
      "Non-trainable params: 0\n",
      "_________________________________________________________________\n",
      "None\n"
     ]
    }
   ],
   "source": [
    "print(model.summary())"
   ]
  },
  {
   "cell_type": "markdown",
   "metadata": {},
   "source": [
    "In order to compile the model we will use categorical crossentropy as the loss function, Adam as an optimizer and  \"accuracy\" as ametric."
   ]
  },
  {
   "cell_type": "code",
   "execution_count": 572,
   "metadata": {},
   "outputs": [],
   "source": [
    "model.compile(\n",
    "    loss='categorical_crossentropy',\n",
    "    optimizer='adam',\n",
    "    metrics=[\n",
    "        'accuracy'\n",
    "    ],\n",
    ")"
   ]
  },
  {
   "cell_type": "markdown",
   "metadata": {},
   "source": [
    "The model is now ready to be trained"
   ]
  },
  {
   "cell_type": "code",
   "execution_count": 573,
   "metadata": {},
   "outputs": [
    {
     "name": "stdout",
     "output_type": "stream",
     "text": [
      "Train on 18800 samples, validate on 4701 samples\n",
      "Epoch 1/30\n",
      " - 21s - loss: 1.5511 - acc: 0.5107 - val_loss: 1.1731 - val_acc: 0.6339\n",
      "Epoch 2/30\n",
      " - 21s - loss: 0.8549 - acc: 0.7352 - val_loss: 1.0829 - val_acc: 0.6794\n",
      "Epoch 3/30\n",
      " - 25s - loss: 0.5247 - acc: 0.8380 - val_loss: 1.1354 - val_acc: 0.6967\n",
      "Epoch 4/30\n",
      " - 25s - loss: 0.3374 - acc: 0.8958 - val_loss: 1.2837 - val_acc: 0.7086\n",
      "Epoch 5/30\n",
      " - 20s - loss: 0.2423 - acc: 0.9220 - val_loss: 1.4634 - val_acc: 0.7073\n",
      "Epoch 6/30\n",
      " - 26s - loss: 0.1951 - acc: 0.9385 - val_loss: 1.5392 - val_acc: 0.7156\n",
      "Epoch 7/30\n",
      " - 28s - loss: 0.1631 - acc: 0.9478 - val_loss: 1.6375 - val_acc: 0.7179\n",
      "Epoch 8/30\n",
      " - 27s - loss: 0.1390 - acc: 0.9552 - val_loss: 1.7165 - val_acc: 0.7181\n",
      "Epoch 9/30\n",
      " - 23s - loss: 0.1376 - acc: 0.9567 - val_loss: 1.7519 - val_acc: 0.7179\n",
      "Epoch 10/30\n",
      " - 21s - loss: 0.1134 - acc: 0.9620 - val_loss: 1.8855 - val_acc: 0.7167\n",
      "Epoch 11/30\n",
      " - 22s - loss: 0.1142 - acc: 0.9626 - val_loss: 1.9651 - val_acc: 0.7158\n",
      "Epoch 12/30\n",
      " - 22s - loss: 0.1033 - acc: 0.9662 - val_loss: 1.9748 - val_acc: 0.7150\n",
      "Epoch 13/30\n",
      " - 21s - loss: 0.0995 - acc: 0.9682 - val_loss: 2.0621 - val_acc: 0.7113\n",
      "Epoch 14/30\n",
      " - 22s - loss: 0.0940 - acc: 0.9703 - val_loss: 2.1200 - val_acc: 0.7179\n",
      "Epoch 15/30\n",
      " - 24s - loss: 0.0948 - acc: 0.9689 - val_loss: 2.1089 - val_acc: 0.7167\n",
      "Epoch 16/30\n",
      " - 26s - loss: 0.0883 - acc: 0.9716 - val_loss: 2.1415 - val_acc: 0.7143\n",
      "Epoch 17/30\n",
      " - 26s - loss: 0.0846 - acc: 0.9739 - val_loss: 2.1583 - val_acc: 0.7237\n",
      "Epoch 18/30\n",
      " - 25s - loss: 0.0844 - acc: 0.9730 - val_loss: 2.2246 - val_acc: 0.7201\n",
      "Epoch 19/30\n",
      " - 21s - loss: 0.0822 - acc: 0.9716 - val_loss: 2.2831 - val_acc: 0.7169\n",
      "Epoch 20/30\n",
      " - 22s - loss: 0.0833 - acc: 0.9732 - val_loss: 2.2569 - val_acc: 0.7177\n",
      "Epoch 21/30\n",
      " - 22s - loss: 0.0714 - acc: 0.9765 - val_loss: 2.3232 - val_acc: 0.7147\n",
      "Epoch 22/30\n",
      " - 21s - loss: 0.0780 - acc: 0.9740 - val_loss: 2.3037 - val_acc: 0.7160\n",
      "Epoch 23/30\n",
      " - 22s - loss: 0.0705 - acc: 0.9763 - val_loss: 2.3446 - val_acc: 0.7209\n",
      "Epoch 24/30\n",
      " - 20s - loss: 0.0715 - acc: 0.9763 - val_loss: 2.4273 - val_acc: 0.7154\n",
      "Epoch 25/30\n",
      " - 23s - loss: 0.0703 - acc: 0.9765 - val_loss: 2.4593 - val_acc: 0.7081\n",
      "Epoch 26/30\n",
      " - 21s - loss: 0.0689 - acc: 0.9767 - val_loss: 2.4803 - val_acc: 0.7164\n",
      "Epoch 27/30\n",
      " - 20s - loss: 0.0781 - acc: 0.9743 - val_loss: 2.4984 - val_acc: 0.7177\n",
      "Epoch 28/30\n",
      " - 21s - loss: 0.0678 - acc: 0.9770 - val_loss: 2.4948 - val_acc: 0.7135\n",
      "Epoch 29/30\n",
      " - 22s - loss: 0.0717 - acc: 0.9761 - val_loss: 2.5224 - val_acc: 0.7194\n",
      "Epoch 30/30\n",
      " - 23s - loss: 0.0662 - acc: 0.9785 - val_loss: 2.5718 - val_acc: 0.7135\n"
     ]
    }
   ],
   "source": [
    "history = model.fit(\n",
    "    \n",
    "    X_train_enc,           \n",
    "    y_train_enc,            \n",
    "    epochs=nb_epoch,        \n",
    "    batch_size=batch_size,  \n",
    "    verbose=2,              \n",
    "    validation_data=(       \n",
    "        X_val_enc,          \n",
    "        y_val_enc\n",
    "    ))"
   ]
  },
  {
   "cell_type": "markdown",
   "metadata": {},
   "source": [
    "The model has Test accuracy: 71.8 %"
   ]
  },
  {
   "cell_type": "code",
   "execution_count": 574,
   "metadata": {},
   "outputs": [
    {
     "name": "stdout",
     "output_type": "stream",
     "text": [
      " - 1s - loss: 2.4880 - acc: 0.7177\n",
      "\n",
      "Test categorical_crossentropy: 2.4880289996946328\n",
      "\n",
      "Test accuracy: 71.770 %\n"
     ]
    }
   ],
   "source": [
    "score = model.evaluate(\n",
    "    X_test_enc.todense(),    \n",
    "    y_test_enc,              \n",
    "    batch_size=batch_size,  \n",
    "    verbose=2  \n",
    ")\n",
    "\n",
    "print('\\nTest categorical_crossentropy: {}'.format(score[0]))\n",
    "print('\\nTest accuracy: {:.3f} %'.format(score[1]*100))\n"
   ]
  },
  {
   "cell_type": "markdown",
   "metadata": {},
   "source": [
    "### Predictions"
   ]
  },
  {
   "cell_type": "markdown",
   "metadata": {},
   "source": [
    "Let's now use our model to make some predictions. We will try to predict three new comments "
   ]
  },
  {
   "cell_type": "code",
   "execution_count": 575,
   "metadata": {},
   "outputs": [],
   "source": [
    "input_comment = \"\"\"\n",
    "you should treat your customers with more respect\n",
    "\"\"\""
   ]
  },
  {
   "cell_type": "code",
   "execution_count": 576,
   "metadata": {},
   "outputs": [],
   "source": [
    "# custom prediction function \n",
    "def get_one_hot_predictions(pred_probs):\n",
    "    \"\"\"\n",
    "    \"\"\"\n",
    "    max_probs = np.max(pred_probs, axis=1)\n",
    "    \n",
    "    # reshaping to (len_of_predicts, 1)\n",
    "    max_probs = max_probs.reshape(max_probs.shape[0], 1)\n",
    "\n",
    "    return np.equal(pred_probs, max_probs).astype(float)"
   ]
  },
  {
   "cell_type": "code",
   "execution_count": 577,
   "metadata": {},
   "outputs": [
    {
     "name": "stdout",
     "output_type": "stream",
     "text": [
      "(1, 3000)\n",
      "\n",
      "Probabilities\n",
      "\n",
      "[[4.1372428e-10 9.9999452e-01 1.5184988e-09 5.7125897e-07 1.5262546e-09\n",
      "  5.7123306e-10 1.9004082e-12 1.6653329e-08 5.0581617e-10 2.5160036e-09\n",
      "  4.2885118e-09 4.4477920e-06 4.6128474e-07 6.7064701e-11]]\n",
      "\n",
      "Probabilities One Hot Vector\n",
      "\n",
      "[[0. 1. 0. 0. 0. 0. 0. 0. 0. 0. 0. 0. 0. 0.]]\n",
      "\n",
      "Category Prediction:\n",
      "\n",
      "agent contact skills\n"
     ]
    }
   ],
   "source": [
    "# vectorizing comment with Count Vectorizer\n",
    "comments_vect = comments_vect_counts.transform([input_comment])\n",
    "\n",
    "print(comments_vect.shape, end='\\n\\n')\n",
    "\n",
    "comments_pred = model.predict_proba(comments_vect)\n",
    "\n",
    "print('Probabilities', end='\\n\\n')\n",
    "print(comments_pred, end='\\n\\n')\n",
    "\n",
    "\n",
    "comments_pred_hot = get_one_hot_predictions(comments_pred)\n",
    "\n",
    "print('Probabilities One Hot Vector', end='\\n\\n')\n",
    "print(comments_pred_hot, end='\\n\\n')\n",
    "\n",
    "print('Category Prediction:', end='\\n\\n')\n",
    "print(y_enc.inverse_transform(comments_pred_hot)[0][0])"
   ]
  },
  {
   "cell_type": "code",
   "execution_count": 578,
   "metadata": {},
   "outputs": [],
   "source": [
    "input_comment = \"\"\"\n",
    "my coffee machine was not working properly. you need to replace it\n",
    "\n",
    "\"\"\""
   ]
  },
  {
   "cell_type": "code",
   "execution_count": 579,
   "metadata": {},
   "outputs": [
    {
     "name": "stdout",
     "output_type": "stream",
     "text": [
      "(1, 3000)\n",
      "\n",
      "Probabilities\n",
      "\n",
      "[[1.08060985e-05 3.05789965e-03 1.42097424e-05 3.09220292e-02\n",
      "  1.12395275e-08 7.74311744e-08 7.66576704e-07 4.08184064e-07\n",
      "  6.28395146e-03 1.06615907e-07 9.56537485e-01 6.64021354e-05\n",
      "  3.10561177e-03 3.85564135e-07]]\n",
      "\n",
      "Probabilities One Hot Vector\n",
      "\n",
      "[[0. 0. 0. 0. 0. 0. 0. 0. 0. 0. 1. 0. 0. 0.]]\n",
      "\n",
      "Category Prediction:\n",
      "\n",
      "repair experience/availability\n"
     ]
    }
   ],
   "source": [
    "# vectorizing comment with Count Vectorizer\n",
    "comments_vect = comments_vect_counts.transform([input_comment])\n",
    "\n",
    "print(comments_vect.shape, end='\\n\\n')\n",
    "\n",
    "comments_pred = model.predict_proba(comments_vect)\n",
    "\n",
    "print('Probabilities', end='\\n\\n')\n",
    "print(comments_pred, end='\\n\\n')\n",
    "\n",
    "\n",
    "comments_pred_hot = get_one_hot_predictions(comments_pred)\n",
    "\n",
    "print('Probabilities One Hot Vector', end='\\n\\n')\n",
    "print(comments_pred_hot, end='\\n\\n')\n",
    "\n",
    "print('Category Prediction:', end='\\n\\n')\n",
    "print(y_enc.inverse_transform(comments_pred_hot)[0][0])"
   ]
  },
  {
   "cell_type": "code",
   "execution_count": 580,
   "metadata": {},
   "outputs": [],
   "source": [
    "input_comment = \"\"\"\n",
    "i had to repeat myself many times because the person i talked to did not understand what i was saying\"\"\""
   ]
  },
  {
   "cell_type": "code",
   "execution_count": 581,
   "metadata": {},
   "outputs": [
    {
     "name": "stdout",
     "output_type": "stream",
     "text": [
      "(1, 3000)\n",
      "\n",
      "Probabilities\n",
      "\n",
      "[[2.1227572e-23 1.0000000e+00 9.5456706e-16 1.2190211e-14 6.3739779e-20\n",
      "  7.1798800e-23 6.3934479e-31 1.2849871e-28 1.1068276e-22 1.0927493e-20\n",
      "  1.6640387e-21 1.5443495e-11 3.8207392e-20 1.0156860e-22]]\n",
      "\n",
      "Probabilities One Hot Vector\n",
      "\n",
      "[[0. 1. 0. 0. 0. 0. 0. 0. 0. 0. 0. 0. 0. 0.]]\n",
      "\n",
      "Category Prediction:\n",
      "\n",
      "agent contact skills\n"
     ]
    }
   ],
   "source": [
    "comments_vect = comments_vect_counts.transform([input_comment])\n",
    "\n",
    "print(comments_vect.shape, end='\\n\\n')\n",
    "\n",
    "comments_pred = model.predict_proba(comments_vect)\n",
    "\n",
    "print('Probabilities', end='\\n\\n')\n",
    "print(comments_pred, end='\\n\\n')\n",
    "\n",
    "\n",
    "comments_pred_hot = get_one_hot_predictions(comments_pred)\n",
    "\n",
    "print('Probabilities One Hot Vector', end='\\n\\n')\n",
    "print(comments_pred_hot, end='\\n\\n')\n",
    "\n",
    "print('Category Prediction:', end='\\n\\n')\n",
    "print(y_enc.inverse_transform(comments_pred_hot)[0][0])"
   ]
  },
  {
   "cell_type": "code",
   "execution_count": 582,
   "metadata": {},
   "outputs": [],
   "source": [
    "input_comment = \"\"\"\n",
    "i had to sent three e mails before you answer\"\"\""
   ]
  },
  {
   "cell_type": "code",
   "execution_count": 583,
   "metadata": {},
   "outputs": [
    {
     "name": "stdout",
     "output_type": "stream",
     "text": [
      "(1, 3000)\n",
      "\n",
      "Probabilities\n",
      "\n",
      "[[1.5219781e-06 1.3308025e-06 5.6791550e-04 1.2347540e-01 7.9709984e-08\n",
      "  1.1645097e-08 1.0713366e-08 3.5328159e-07 9.8672864e-08 2.1105610e-07\n",
      "  3.9517940e-06 8.7542099e-01 9.1988838e-08 5.2794430e-04]]\n",
      "\n",
      "Probabilities One Hot Vector\n",
      "\n",
      "[[0. 0. 0. 0. 0. 0. 0. 0. 0. 0. 0. 1. 0. 0.]]\n",
      "\n",
      "Category Prediction:\n",
      "\n",
      "support efficiency\n"
     ]
    }
   ],
   "source": [
    "comments_vect = comments_vect_counts.transform([input_comment])\n",
    "\n",
    "print(comments_vect.shape, end='\\n\\n')\n",
    "\n",
    "comments_pred = model.predict_proba(comments_vect)\n",
    "\n",
    "print('Probabilities', end='\\n\\n')\n",
    "print(comments_pred, end='\\n\\n')\n",
    "\n",
    "\n",
    "comments_pred_hot = get_one_hot_predictions(comments_pred)\n",
    "\n",
    "print('Probabilities One Hot Vector', end='\\n\\n')\n",
    "print(comments_pred_hot, end='\\n\\n')\n",
    "\n",
    "print('Category Prediction:', end='\\n\\n')\n",
    "print(y_enc.inverse_transform(comments_pred_hot)[0][0])"
   ]
  },
  {
   "cell_type": "markdown",
   "metadata": {},
   "source": [
    "As we can see the model makes accurate predictions."
   ]
  },
  {
   "cell_type": "code",
   "execution_count": 584,
   "metadata": {},
   "outputs": [],
   "source": [
    "plot_model(model,\n",
    "           to_file='model_plot.png',\n",
    "           show_shapes=True,\n",
    "           show_layer_names=True)"
   ]
  },
  {
   "cell_type": "code",
   "execution_count": null,
   "metadata": {},
   "outputs": [],
   "source": []
  },
  {
   "cell_type": "code",
   "execution_count": 585,
   "metadata": {},
   "outputs": [
    {
     "data": {
      "image/png": "[encoded data removed]",
      "text/plain": [
       "<Figure size 432x288 with 1 Axes>"
      ]
     },
     "metadata": {
      "needs_background": "light"
     },
     "output_type": "display_data"
    }
   ],
   "source": [
    "\n",
    "plt.title('Loss')\n",
    "plt.plot(history.history['loss'], label='train')\n",
    "plt.plot(history.history['val_loss'], label='test')\n",
    "plt.legend()\n",
    "plt.show();\n",
    "\n"
   ]
  },
  {
   "cell_type": "code",
   "execution_count": 586,
   "metadata": {},
   "outputs": [
    {
     "data": {
      "image/png": "[encoded data removed]",
      "text/plain": [
       "<Figure size 432x288 with 1 Axes>"
      ]
     },
     "metadata": {
      "needs_background": "light"
     },
     "output_type": "display_data"
    }
   ],
   "source": [
    "plt.title('Accuracy')\n",
    "plt.plot(history.history['acc'], label='train')\n",
    "plt.plot(history.history['val_acc'], label='test')\n",
    "plt.legend()\n",
    "plt.show();"
   ]
  },
  {
   "cell_type": "markdown",
   "metadata": {},
   "source": [
    "## LSTM model"
   ]
  },
  {
   "cell_type": "code",
   "execution_count": 601,
   "metadata": {},
   "outputs": [],
   "source": [
    "# The maximum number of words to be used. (most frequent)\n",
    "MAX_NB_WORDS = 10000\n",
    "# Max number of words in each complaint.\n",
    "MAX_SEQUENCE_LENGTH = 256\n",
    "# This is fixed.\n",
    "EMBEDDING_DIM = 100"
   ]
  },
  {
   "cell_type": "code",
   "execution_count": 602,
   "metadata": {},
   "outputs": [],
   "source": [
    "from tensorflow.keras.preprocessing.text import Tokenizer\n",
    "from tensorflow.keras.preprocessing.sequence import pad_sequences\n",
    "from sklearn.model_selection import train_test_split\n",
    "from tensorflow.keras.layers import Embedding\n",
    "from tensorflow.keras.layers import SpatialDropout1D\n",
    "from tensorflow.keras.layers import LSTM\n",
    "from tensorflow.keras.callbacks import EarlyStopping"
   ]
  },
  {
   "cell_type": "code",
   "execution_count": 603,
   "metadata": {},
   "outputs": [],
   "source": [
    "tokenizer = Tokenizer(num_words=MAX_NB_WORDS, filters='!\"#$%&()*+,-./:;<=>?@[\\]^_`{|}~', lower=True)\n",
    "tokenizer.fit_on_texts(df['Comment'].values)\n",
    "word_index = tokenizer.word_index"
   ]
  },
  {
   "cell_type": "code",
   "execution_count": 604,
   "metadata": {},
   "outputs": [
    {
     "name": "stdout",
     "output_type": "stream",
     "text": [
      "Shape of data tensor: (27649, 256)\n"
     ]
    }
   ],
   "source": [
    "X = tokenizer.texts_to_sequences(df['Comment'].values)\n",
    "X = pad_sequences(X, maxlen=MAX_SEQUENCE_LENGTH)\n",
    "print('Shape of data tensor:', X.shape)"
   ]
  },
  {
   "cell_type": "code",
   "execution_count": 605,
   "metadata": {},
   "outputs": [
    {
     "name": "stdout",
     "output_type": "stream",
     "text": [
      "Shape of label tensor: (27649, 14)\n"
     ]
    }
   ],
   "source": [
    "Y = pd.get_dummies(df['Category']).values\n",
    "print('Shape of label tensor:', Y.shape)"
   ]
  },
  {
   "cell_type": "code",
   "execution_count": 606,
   "metadata": {},
   "outputs": [
    {
     "name": "stdout",
     "output_type": "stream",
     "text": [
      "(24884, 256) (24884, 14)\n",
      "(2765, 256) (2765, 14)\n"
     ]
    }
   ],
   "source": [
    "X_train, X_test, Y_train, Y_test = train_test_split(X,Y, test_size = 0.10, random_state = 42)\n",
    "print(X_train.shape,Y_train.shape)\n",
    "print(X_test.shape,Y_test.shape)"
   ]
  },
  {
   "cell_type": "code",
   "execution_count": 608,
   "metadata": {},
   "outputs": [
    {
     "name": "stdout",
     "output_type": "stream",
     "text": [
      "Train on 22395 samples, validate on 2489 samples\n",
      "Epoch 1/10\n",
      "22395/22395 [==============================] - 244s 11ms/sample - loss: 2.0465 - acc: 0.3093 - val_loss: 1.6104 - val_acc: 0.4669\n",
      "Epoch 2/10\n",
      "22395/22395 [==============================] - 251s 11ms/sample - loss: 1.4155 - acc: 0.5466 - val_loss: 1.3110 - val_acc: 0.5838\n",
      "Epoch 3/10\n",
      "22395/22395 [==============================] - 250s 11ms/sample - loss: 1.1139 - acc: 0.6519 - val_loss: 1.1926 - val_acc: 0.6235\n",
      "Epoch 4/10\n",
      "22395/22395 [==============================] - 232s 10ms/sample - loss: 0.9352 - acc: 0.7100 - val_loss: 1.1317 - val_acc: 0.6493\n",
      "Epoch 5/10\n",
      "22395/22395 [==============================] - 233s 10ms/sample - loss: 0.8114 - acc: 0.7479 - val_loss: 1.1093 - val_acc: 0.6593\n",
      "Epoch 6/10\n",
      "22395/22395 [==============================] - 260s 12ms/sample - loss: 0.7162 - acc: 0.7770 - val_loss: 1.1195 - val_acc: 0.6722\n",
      "Epoch 7/10\n",
      "22395/22395 [==============================] - 226s 10ms/sample - loss: 0.6429 - acc: 0.8029 - val_loss: 1.1293 - val_acc: 0.6798\n",
      "Epoch 8/10\n",
      "22395/22395 [==============================] - 215s 10ms/sample - loss: 0.5851 - acc: 0.8192 - val_loss: 1.0948 - val_acc: 0.6882\n",
      "Epoch 9/10\n",
      "22395/22395 [==============================] - 289s 13ms/sample - loss: 0.5357 - acc: 0.8347 - val_loss: 1.1473 - val_acc: 0.6930\n",
      "Epoch 10/10\n",
      "22395/22395 [==============================] - 272s 12ms/sample - loss: 0.4869 - acc: 0.8475 - val_loss: 1.1420 - val_acc: 0.6930\n"
     ]
    }
   ],
   "source": [
    "model1 = Sequential()\n",
    "model1.add(Embedding(MAX_NB_WORDS, EMBEDDING_DIM, input_length=X.shape[1]))\n",
    "model1.add(SpatialDropout1D(0.2))\n",
    "model1.add(LSTM(100, dropout=0.2, recurrent_dropout=0.2))\n",
    "model1.add(Dense(14, activation='softmax'))\n",
    "model1.compile(loss='categorical_crossentropy', optimizer='adam', metrics=['accuracy'])\n",
    "\n",
    "epochs = 10\n",
    "batch_size = 64\n",
    "history = model1.fit(X_train, Y_train, \n",
    "                    epochs=epochs, batch_size=batch_size,validation_split=0.1,\n",
    "                    callbacks=[EarlyStopping(monitor='val_loss', patience=3, min_delta=0.0001)])\n"
   ]
  },
  {
   "cell_type": "code",
   "execution_count": 609,
   "metadata": {},
   "outputs": [
    {
     "name": "stdout",
     "output_type": "stream",
     "text": [
      "2765/2765 [==============================] - 8s 3ms/sample - loss: 1.1401 - acc: 0.7005\n",
      "Test set\n",
      "  Loss: 1.140\n",
      "  Accuracy: 0.701\n"
     ]
    }
   ],
   "source": [
    "accr = model1.evaluate(X_test,Y_test)\n",
    "print('Test set\\n  Loss: {:0.3f}\\n  Accuracy: {:0.3f}'.format(accr[0],accr[1]))"
   ]
  },
  {
   "cell_type": "code",
   "execution_count": 610,
   "metadata": {},
   "outputs": [
    {
     "data": {
      "image/png": "[encoded data removed]",
      "text/plain": [
       "<Figure size 432x288 with 1 Axes>"
      ]
     },
     "metadata": {
      "needs_background": "light"
     },
     "output_type": "display_data"
    }
   ],
   "source": [
    "plt.title('Loss')\n",
    "plt.plot(history.history['loss'], label='train')\n",
    "plt.plot(history.history['val_loss'], label='test')\n",
    "plt.legend()\n",
    "plt.show();"
   ]
  },
  {
   "cell_type": "code",
   "execution_count": 611,
   "metadata": {},
   "outputs": [
    {
     "data": {
      "image/png": "[encoded data removed]",
      "text/plain": [
       "<Figure size 432x288 with 1 Axes>"
      ]
     },
     "metadata": {
      "needs_background": "light"
     },
     "output_type": "display_data"
    }
   ],
   "source": [
    "plt.title('Accuracy')\n",
    "plt.plot(history.history['acc'], label='train')\n",
    "plt.plot(history.history['val_acc'], label='test')\n",
    "plt.legend()\n",
    "plt.show();"
   ]
  },
  {
   "cell_type": "markdown",
   "metadata": {},
   "source": [
    "Predictions"
   ]
  },
  {
   "cell_type": "code",
   "execution_count": 630,
   "metadata": {},
   "outputs": [
    {
     "name": "stdout",
     "output_type": "stream",
     "text": [
      "[[6.6639640e-04 7.3233945e-03 2.5850653e-03 7.0894502e-02 7.9917477e-04\n",
      "  4.2211083e-03 4.8996843e-03 5.4322148e-04 6.9051705e-02 1.2556273e-03\n",
      "  7.0504373e-01 3.5854995e-03 1.2897779e-01 1.5323010e-04]] Promotion Conditions\n"
     ]
    }
   ],
   "source": [
    "new_comment = ['my coffee machine was not working properly. you need to replace it']\n",
    "seq = tokenizer.texts_to_sequences(new_comment)\n",
    "padded = pad_sequences(seq, maxlen=MAX_SEQUENCE_LENGTH)\n",
    "pred = model1.predict(padded)\n",
    "labels =['Support Efficiency',\n",
    " 'Issue Resolution',\n",
    " 'Information Provided',\n",
    " 'Agent Contact Skills',\n",
    " 'Product/Spares Quality',\n",
    " 'Product /Spare Availability',\n",
    " 'Website / Store Experience',\n",
    " 'Positive Verbatim',\n",
    " 'Repair Experience/Availability',\n",
    " 'Warranty Coverage',\n",
    " 'Promotion Conditions',\n",
    " 'Price',\n",
    " 'Other',\n",
    " '3rd Party Complaint']\n",
    "print(pred, labels[np.argmax(pred)])\n"
   ]
  },
  {
   "cell_type": "code",
   "execution_count": 631,
   "metadata": {},
   "outputs": [
    {
     "name": "stdout",
     "output_type": "stream",
     "text": [
      "[[6.7727224e-06 2.1452622e-01 3.0152979e-03 8.8720853e-03 3.5386157e-04\n",
      "  4.4776723e-05 9.5371297e-07 1.2345353e-04 2.7440136e-04 9.8955439e-05\n",
      "  3.6379346e-04 7.7218282e-01 7.5439944e-05 6.1159124e-05]] Price\n"
     ]
    }
   ],
   "source": [
    "new_comment = ['i had to repeat myself many times because the person i talked to did not understand what i was saying']\n",
    "seq = tokenizer.texts_to_sequences(new_comment)\n",
    "padded = pad_sequences(seq, maxlen=MAX_SEQUENCE_LENGTH)\n",
    "pred = model1.predict(padded)\n",
    "labels = ['Support Efficiency',\n",
    " 'Issue Resolution',`\n",
    " 'Information Provided',\n",
    " 'Agent Contact Skills',\n",
    " 'Product/Spares Quality',\n",
    " 'Product /Spare Availability',\n",
    " 'Website / Store Experience',\n",
    " 'Positive Verbatim',\n",
    " 'Repair Experience/Availability',\n",
    " 'Warranty Coverage',\n",
    " 'Promotion Conditions',\n",
    " 'Price',\n",
    " 'Other',\n",
    " '3rd Party Complaint']\n",
    "print(pred, labels[np.argmax(pred)])\n",
    "\n"
   ]
  },
  {
   "cell_type": "code",
   "execution_count": 632,
   "metadata": {},
   "outputs": [
    {
     "name": "stdout",
     "output_type": "stream",
     "text": [
      "[[1.9349070e-04 4.5520975e-03 1.2388278e-02 2.5764945e-01 5.0689857e-03\n",
      "  1.3296983e-03 5.9247241e-06 6.3455204e-04 1.5692790e-04 8.5115136e-04\n",
      "  1.4731176e-03 7.0488846e-01 1.8979459e-04 1.0618005e-02]] Price\n"
     ]
    }
   ],
   "source": [
    "new_comment = ['i had to sent three e mails before you answer']\n",
    "seq = tokenizer.texts_to_sequences(new_comment)\n",
    "padded = pad_sequences(seq, maxlen=MAX_SEQUENCE_LENGTH)\n",
    "pred = model1.predict(padded)\n",
    "labels = ['Support Efficiency',\n",
    " 'Issue Resolution',\n",
    " 'Information Provided',\n",
    " 'Agent Contact Skills',\n",
    " 'Product/Spares Quality',\n",
    " 'Product /Spare Availability',\n",
    " 'Website / Store Experience',\n",
    " 'Positive Verbatim',\n",
    " 'Repair Experience/Availability',\n",
    " 'Warranty Coverage',\n",
    " 'Promotion Conditions',\n",
    " 'Price',\n",
    " 'Other',\n",
    " '3rd Party Complaint']\n",
    "print(pred, labels[np.argmax(pred)])"
   ]
  },
  {
   "cell_type": "code",
   "execution_count": null,
   "metadata": {},
   "outputs": [],
   "source": []
  },
  {
   "cell_type": "code",
   "execution_count": null,
   "metadata": {},
   "outputs": [],
   "source": []
  }
 ],
 "metadata": {
  "kernelspec": {
   "display_name": "Python 3",
   "language": "python",
   "name": "python3"
  },
  "language_info": {
   "codemirror_mode": {
    "name": "ipython",
    "version": 3
   },
   "file_extension": ".py",
   "mimetype": "text/x-python",
   "name": "python",
   "nbconvert_exporter": "python",
   "pygments_lexer": "ipython3",
   "version": "3.7.1"
  }
 },
 "nbformat": 4,
 "nbformat_minor": 2
}
